{
 "cells": [
  {
   "cell_type": "code",
   "execution_count": 41,
   "metadata": {},
   "outputs": [],
   "source": [
    "import numpy as np\n",
    "import json\n",
    "\n",
    "from path_lib import inverse_kinematics\n",
    "from path_tool import gen_posture\n",
    "from path_tool import gen_walk_path, gen_fastwalk_path, gen_turn_path, gen_climb_path\n",
    "from path_tool import (\n",
    "    gen_rotatex_path,\n",
    "    gen_rotatey_path,\n",
    "    gen_rotatez_path,\n",
    "    gen_twist_path,\n",
    ")\n",
    "from path_tool import gen_standup_path\n",
    "\n",
    "servo_min = 102\n",
    "servo_max = 512\n",
    "servo_range = servo_max - servo_min"
   ]
  },
  {
   "cell_type": "code",
   "execution_count": 42,
   "metadata": {},
   "outputs": [],
   "source": [
    "with open(\"config.json\", \"r\", encoding=\"utf-8\") as read_file:\n",
    "    config = json.load(read_file)"
   ]
  },
  {
   "cell_type": "code",
   "execution_count": 43,
   "metadata": {},
   "outputs": [
    {
     "data": {
      "text/plain": [
       "array([[307., 375., 341.],\n",
       "       [307., 239., 273.],\n",
       "       [307., 239., 273.],\n",
       "       [307., 239., 273.],\n",
       "       [307., 375., 341.],\n",
       "       [307., 375., 341.]])"
      ]
     },
     "execution_count": 43,
     "metadata": {},
     "output_type": "execute_result"
    }
   ],
   "source": [
    "standby = gen_posture(60, 75, config)\n",
    "laydown = gen_posture(25, 25, config)\n",
    "\n",
    "\n",
    "angles = inverse_kinematics(standby, config)\n",
    "\n",
    "np.round(angles / 180 * servo_range + servo_min)"
   ]
  },
  {
   "cell_type": "code",
   "execution_count": 44,
   "metadata": {},
   "outputs": [],
   "source": [
    "lut_standby = standby[np.newaxis, :, :]\n",
    "\n",
    "lut_walk_0 = gen_walk_path(standby, direction=0)\n",
    "lut_walk_180 = gen_walk_path(standby, direction=180)\n",
    "\n",
    "lut_walk_r45 = gen_walk_path(standby, direction=315)\n",
    "lut_walk_r90 = gen_walk_path(standby, direction=270)\n",
    "lut_walk_r135 = gen_walk_path(standby, direction=225)\n",
    "\n",
    "lut_walk_l45 = gen_walk_path(standby, direction=45)\n",
    "lut_walk_l90 = gen_walk_path(standby, direction=90)\n",
    "lut_walk_l135 = gen_walk_path(standby, direction=135)\n",
    "\n",
    "lut_fast_forward = gen_fastwalk_path(standby, g_steps=28)\n",
    "lut_fast_backward = gen_fastwalk_path(standby, g_steps=28, reverse=True)\n",
    "\n",
    "lut_turn_left = gen_turn_path(standby, direction=\"left\")\n",
    "lut_turn_right = gen_turn_path(standby, direction=\"right\")\n",
    "\n",
    "lut_climb_forward = gen_climb_path(standby, reverse=False)\n",
    "lut_climb_backward = gen_climb_path(standby, reverse=True)\n",
    "\n",
    "lut_rotate_x = gen_rotatex_path(standby, g_steps=28, swing_angle=10, y_radius=10)\n",
    "lut_rotate_y = gen_rotatey_path(standby, g_steps=28, swing_angle=10, x_radius=10)\n",
    "lut_rotate_z = gen_rotatez_path(standby, g_steps=28, z_lift=7)\n",
    "\n",
    "lut_twist = gen_twist_path(standby, g_steps=28)\n",
    "\n",
    "lut_standup = gen_standup_path(standby, laydown, steps=28)"
   ]
  },
  {
   "cell_type": "code",
   "execution_count": 45,
   "metadata": {},
   "outputs": [
    {
     "data": {
      "text/plain": [
       "(28, 6, 3)"
      ]
     },
     "execution_count": 45,
     "metadata": {},
     "output_type": "execute_result"
    }
   ],
   "source": [
    "np.shape(lut_standup)"
   ]
  },
  {
   "cell_type": "code",
   "execution_count": 46,
   "metadata": {},
   "outputs": [
    {
     "data": {
      "text/plain": [
       "array([  8.00102758,  -0.29517606,  -8.59137969, -16.88758333,\n",
       "       -25.18378697, -33.4799906 , -41.77619424, -50.07239788,\n",
       "       -58.36860151, -66.66480515, -66.66480515, -66.66480515,\n",
       "       -66.66480515, -66.66480515, -66.66480515, -66.66480515,\n",
       "       -66.66480515, -66.66480515, -66.66480515, -60.02348915,\n",
       "       -54.18321388, -49.84840272, -47.54189788, -47.54189788,\n",
       "       -49.84840272, -54.18321388, -60.02348915, -66.66480515])"
      ]
     },
     "execution_count": 46,
     "metadata": {},
     "output_type": "execute_result"
    }
   ],
   "source": [
    "lut_standup[:,0,2]"
   ]
  },
  {
   "cell_type": "code",
   "execution_count": 47,
   "metadata": {},
   "outputs": [],
   "source": [
    "var_name_list = [\n",
    "    \"lut_standby\",\n",
    "    \"lut_walk_0\",\n",
    "    \"lut_walk_180\",\n",
    "    \"lut_walk_r45\",\n",
    "    \"lut_walk_r90\",\n",
    "    \"lut_walk_r135\",\n",
    "    \"lut_walk_l45\",\n",
    "    \"lut_walk_l90\",\n",
    "    \"lut_walk_l135\",\n",
    "    \"lut_fast_forward\",\n",
    "    \"lut_fast_backward\",\n",
    "    \"lut_turn_left\",\n",
    "    \"lut_turn_right\",\n",
    "    \"lut_climb_forward\",\n",
    "    \"lut_climb_backward\",\n",
    "    \"lut_rotate_x\",\n",
    "    \"lut_rotate_y\",\n",
    "    \"lut_rotate_z\",\n",
    "    \"lut_twist\",\n",
    "    \"lut_standup\",\n",
    "]\n",
    "\n",
    "var_data_list = [\n",
    "    lut_standby,\n",
    "    lut_walk_0,\n",
    "    lut_walk_180,\n",
    "    lut_walk_r45,\n",
    "    lut_walk_r90,\n",
    "    lut_walk_r135,\n",
    "    lut_walk_l45,\n",
    "    lut_walk_l90,\n",
    "    lut_walk_l135,\n",
    "    lut_fast_forward,\n",
    "    lut_fast_backward,\n",
    "    lut_turn_left,\n",
    "    lut_turn_right,\n",
    "    lut_climb_forward,\n",
    "    lut_climb_backward,\n",
    "    lut_rotate_x,\n",
    "    lut_rotate_y,\n",
    "    lut_rotate_z,\n",
    "    lut_twist,\n",
    "    lut_standup,\n",
    "]"
   ]
  },
  {
   "cell_type": "code",
   "execution_count": 48,
   "metadata": {},
   "outputs": [],
   "source": [
    "fp = open(\"./motion.h\", \"w\")\n",
    "\n",
    "fp.write(\"/**\\n\")\n",
    "fp.write(\" * This is an automatically generated header, which includes motion path LUTs\\n\")\n",
    "fp.write(\" * \\n\")\n",
    "fp.write(\" * - Copyright (C) 2024 - PRESENT  rookidroid.com\\n\")\n",
    "fp.write(\" * - E-mail: info@rookidroid.com\\n\")\n",
    "fp.write(\" * - Website: https://rookidroid.com/\\n\")\n",
    "fp.write(\" */\\n\\n\")\n",
    "\n",
    "fp.write(\"#ifndef MOTION_H\\n\")\n",
    "fp.write(\"#define MOTION_H\\n\\n\")\n",
    "\n",
    "for var_idx, var_name in enumerate(var_name_list):\n",
    "    var = var_data_list[var_idx]\n",
    "\n",
    "    fp.write(\"static int \" + var_name + \"_length = \" + str(np.shape(var)[0]) + \";\\n\")\n",
    "\n",
    "    for idx in range(0, np.shape(var)[0]):\n",
    "        angles = inverse_kinematics(var[idx, :, :], config)\n",
    "        path_walk_pwm = np.round(angles / 180 * servo_range + servo_min)\n",
    "        path_walk_pwm = path_walk_pwm.astype(int)\n",
    "\n",
    "        if idx == 0:\n",
    "            fp.write(\n",
    "                \"static int \" + var_name + \"[\" + str(np.shape(var)[0]) + \"][6][3] = {{\"\n",
    "            )\n",
    "        else:\n",
    "            fp.write(\"                                  {\")\n",
    "\n",
    "        for r in range(0, 6):\n",
    "            if r > 0:\n",
    "                fp.write(\"                                   \")\n",
    "\n",
    "            fp.write(\n",
    "                \"{\"\n",
    "                + str(path_walk_pwm[r, 0])\n",
    "                + \", \"\n",
    "                + str(path_walk_pwm[r, 1])\n",
    "                + \", \"\n",
    "                + str(path_walk_pwm[r, 2])\n",
    "                + \"}\"\n",
    "            )\n",
    "\n",
    "            if r < 5:\n",
    "                fp.write(\",\\n\")\n",
    "            else:\n",
    "                fp.write(\"}\")\n",
    "        # fp.write(\"{\"+str(path_walk_pwm[5, 0])+\", \" +str(path_walk_pwm[5, 1])+\", \"+str(path_walk_pwm[5, 2])+\"}}\")\n",
    "\n",
    "        if idx == (np.shape(var)[0] - 1):\n",
    "            fp.write(\"};\\n\\n\")\n",
    "        else:\n",
    "            fp.write(\",\\n\")\n",
    "\n",
    "fp.write(\"#endif // MOTION_H\\n\")\n",
    "\n",
    "fp.close()"
   ]
  }
 ],
 "metadata": {
  "kernelspec": {
   "display_name": "dev",
   "language": "python",
   "name": "python3"
  },
  "language_info": {
   "codemirror_mode": {
    "name": "ipython",
    "version": 3
   },
   "file_extension": ".py",
   "mimetype": "text/x-python",
   "name": "python",
   "nbconvert_exporter": "python",
   "pygments_lexer": "ipython3",
   "version": "3.12.0"
  }
 },
 "nbformat": 4,
 "nbformat_minor": 2
}
